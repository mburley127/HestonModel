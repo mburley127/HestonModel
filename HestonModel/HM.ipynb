{
 "cells": [
  {
   "cell_type": "code",
   "execution_count": 59,
   "metadata": {},
   "outputs": [],
   "source": [
    "### Library Import Initialization\n",
    "import numpy as np\n",
    "import pandas as pd\n",
    "import yfinance as yf\n",
    "import matplotlib.pyplot as plt\n",
    "import seaborn as sns\n",
    "from scipy.stats import norm\n",
    "from scipy.integrate import quad\n",
    "import warnings\n",
    "warnings.filterwarnings(\"ignore\")\n"
   ]
  },
  {
   "cell_type": "code",
   "execution_count": 60,
   "metadata": {},
   "outputs": [
    {
     "name": "stderr",
     "output_type": "stream",
     "text": [
      "[*********************100%%**********************]  1 of 1 completed\n"
     ]
    }
   ],
   "source": [
    "### Load in Stock Data\n",
    "def import_stock_data(tickers, start_date):\n",
    "    data = pd.DataFrame()\n",
    "    if len([tickers]) == 1:\n",
    "        data[tickers] = yf.download(tickers, start_date)['Adj Close']\n",
    "        data = pd.DataFrame(data)\n",
    "    else:\n",
    "        for t in tickers:\n",
    "            data[t] = yf.download(tickers, start_date)['Adj Close']\n",
    "    return data\n",
    "\n",
    "tickers = 'GOOG'\n",
    "start_data = '2022-01-01'\n",
    "stock_data = import_stock_data(tickers, start_data)\n",
    "# Get most recent stock price\n",
    "S_0 = stock_data.iloc[1, -1]\n",
    "S_0\n",
    "\n",
    "# Set the Strike Price (K) based on the current asset price (S_0)\n",
    "K = 150"
   ]
  },
  {
   "cell_type": "code",
   "execution_count": 61,
   "metadata": {},
   "outputs": [
    {
     "data": {
      "text/plain": [
       "GOOG    0.007203\n",
       "Name: 2024-06-06 00:00:00, dtype: float64"
      ]
     },
     "execution_count": 61,
     "metadata": {},
     "output_type": "execute_result"
    }
   ],
   "source": [
    "### Compute Log Returns\n",
    "def get_log_returns(data):\n",
    "    return np.log(stock_data / stock_data.shift(1))\n",
    "\n",
    "log_returns = get_log_returns(stock_data)\n",
    "log_returns.iloc[-1]"
   ]
  },
  {
   "cell_type": "code",
   "execution_count": 62,
   "metadata": {},
   "outputs": [
    {
     "name": "stdout",
     "output_type": "stream",
     "text": [
      "GOOG    0.340401\n",
      "dtype: float64\n",
      "GOOG    0.115873\n",
      "dtype: float64\n"
     ]
    }
   ],
   "source": [
    "### Calculate Historical Volatility (sigma)\n",
    "def volatility(log_returns):\n",
    "    # Calculate standard deviation of log_returns\n",
    "    std_dev = log_returns.std()\n",
    "    # Calculate historical volatility (v_0) = sqrt(252) * std dev\n",
    "    sigma = np.sqrt(252) * std_dev # 252 trading days per year\n",
    "\n",
    "    return sigma\n",
    "\n",
    "sigma = volatility(log_returns)\n",
    "print(sigma)\n",
    "\n",
    "### Compute the variance (v_0) = sigma^2\n",
    "v_0 = sigma ** 2\n",
    "print(v_0)\n"
   ]
  },
  {
   "cell_type": "code",
   "execution_count": 63,
   "metadata": {},
   "outputs": [],
   "source": [
    "### Coumpute the Characteristic Function\n",
    "def char_func(u, S_0, r, T, k, theta, sigma, rho, v_0):\n",
    "    i = 1j\n",
    "    b = k - rho * sigma * i * u\n",
    "    d = np.sqrt(b ** 2 + (sigma ** 2) * (i * u + u ** 2))\n",
    "    g = (b - d) / (b + d)\n",
    "    e_dt = np.exp(-d * T)\n",
    "    C = r * i * u * T + (k * theta / (sigma ** 2)) * ((b - d) * T - 2 * np.log((1 - g * e_dt) / (1 - g)))\n",
    "    D = ((b - d) / (sigma ** 2)) * ((1 - e_dt) / (1 - g * e_dt))\n",
    "    \n",
    "    char_eqn = np.exp(C + D * v_0 + i * u * np.log(S_0))\n",
    "\n",
    "    return char_eqn"
   ]
  },
  {
   "cell_type": "code",
   "execution_count": 64,
   "metadata": {},
   "outputs": [],
   "source": [
    "# Compute Probability P_1\n",
    "def p_1(S0, K, T, r, kappa, theta, sigma, rho, v0):\n",
    "    def integrand(u):\n",
    "        numerator = np.exp(-1j * u * np.log(K)) * char_func(u - 1j, S0, r, T, kappa, theta, sigma, rho, v0)\n",
    "        denominator = 1j * u * char_func(-1j, S0, r, T, kappa, theta, sigma, rho, v0)\n",
    "        return np.real((numerator / denominator) * np.conj(numerator / denominator))\n",
    "\n",
    "    result, error = quad(integrand, 0, np.inf)\n",
    "    return 0.5 + (1 / np.pi) * result\n",
    "\n",
    "# Compute Probability P_2\n",
    "def p_2(S0, K, T, r, kappa, theta, sigma, rho, v0):\n",
    "    def integrand(u):\n",
    "        numerator = np.exp(-1j * u * np.log(K)) * char_func(u, S0, r, T, kappa, theta, sigma, rho, v0)\n",
    "        denominator = 1j * u\n",
    "        return np.real((numerator / denominator) * np.conj(numerator / denominator))\n",
    "\n",
    "    result, error = quad(integrand, 0, np.inf)\n",
    "    return 0.5 + (1 / np.pi) * result"
   ]
  },
  {
   "cell_type": "code",
   "execution_count": 65,
   "metadata": {},
   "outputs": [],
   "source": [
    "### Compute the Heston Approximation for a Call and Put Option\n",
    "def heston_approx(S_0, K, T, r, k, theta, sigma, rho, v_0, option_type):\n",
    "    # Initialize Probabilities\n",
    "    P_1 = p_1(S_0, K, T, r, k, theta, sigma, rho, v_0)\n",
    "    P_2 = p_2(S_0, K, T, r, k, theta, sigma, rho, v_0)\n",
    "    # Initialize Call Option Price\n",
    "    call_price = (S_0 * P_1) - (K * np.exp(-r * T) * P_2)\n",
    "    # Return Call Approx\n",
    "    if option_type == 'call':\n",
    "        return call_price\n",
    "    # Return Put Approx using Put-Call Parity -> P - C = Ke^(-rt) - S_0 -> P = C + Ke^(-rt) - S_0\n",
    "    if option_type == 'put':\n",
    "        put_price = call_price + (K * np.exp(-r * T)) - S_0\n",
    "        return put_price\n"
   ]
  },
  {
   "cell_type": "code",
   "execution_count": 66,
   "metadata": {},
   "outputs": [
    {
     "name": "stdout",
     "output_type": "stream",
     "text": [
      "Option Price Estimate: 1.576466610014828\n"
     ]
    }
   ],
   "source": [
    "### Initialize Parameters\n",
    "# Kappa = Mean-reversion speed in the Heston model\n",
    "k = 2 \n",
    "# Long-term average variance (squared volatility) in the Heston model\n",
    "theta = v_0 ** 2  \n",
    "# rho - correlation parameter\n",
    "rho = -0.5\n",
    "# Time to Expiration (years)\n",
    "T = 1\n",
    "# Interest rate\n",
    "r = 0.05\n",
    "\n",
    "### Function Call\n",
    "option_price = heston_approx(S_0, K, T, r, k, theta, sigma, rho, v_0, option_type = 'call')\n",
    "print(\"Option Price Estimate:\", option_price)"
   ]
  }
 ],
 "metadata": {
  "kernelspec": {
   "display_name": "base",
   "language": "python",
   "name": "python3"
  },
  "language_info": {
   "codemirror_mode": {
    "name": "ipython",
    "version": 3
   },
   "file_extension": ".py",
   "mimetype": "text/x-python",
   "name": "python",
   "nbconvert_exporter": "python",
   "pygments_lexer": "ipython3",
   "version": "3.8.18"
  }
 },
 "nbformat": 4,
 "nbformat_minor": 2
}
