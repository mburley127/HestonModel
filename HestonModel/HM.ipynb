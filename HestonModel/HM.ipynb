{
 "cells": [
  {
   "cell_type": "code",
   "execution_count": 40,
   "metadata": {},
   "outputs": [],
   "source": [
    "### Library Import Initialization\n",
    "import numpy as np\n",
    "import pandas as pd\n",
    "import yfinance as yf\n",
    "from scipy.integrate import quad\n",
    "import warnings\n",
    "warnings.filterwarnings(\"ignore\")\n"
   ]
  },
  {
   "cell_type": "code",
   "execution_count": 41,
   "metadata": {},
   "outputs": [
    {
     "name": "stderr",
     "output_type": "stream",
     "text": [
      "[*********************100%%**********************]  1 of 1 completed"
     ]
    },
    {
     "name": "stdout",
     "output_type": "stream",
     "text": [
      "The current stock price is: 144.2523\n",
      "The Strike Price is set to: 142\n"
     ]
    },
    {
     "name": "stderr",
     "output_type": "stream",
     "text": [
      "\n"
     ]
    }
   ],
   "source": [
    "### Load in Stock Data\n",
    "def import_stock_data(tickers, start_date):\n",
    "    data = pd.DataFrame()\n",
    "    if len([tickers]) == 1:\n",
    "        data[tickers] = yf.download(tickers, start_date)['Adj Close']\n",
    "        data = pd.DataFrame(data)\n",
    "    else:\n",
    "        for t in tickers:\n",
    "            data[t] = yf.download(tickers, start_date)['Adj Close']\n",
    "    return data\n",
    "\n",
    "tickers = 'GOOG'\n",
    "start_data = '2022-01-01'\n",
    "stock_data = import_stock_data(tickers, start_data)\n",
    "# Get most recent stock price\n",
    "S_0 = stock_data.iloc[1, -1]\n",
    "print('The current stock price is:', round(S_0, 4))\n",
    "\n",
    "# Set the Strike Price (K) based on the current asset price (S_0)\n",
    "K = 142\n",
    "print('The Strike Price is set to:', K)\n"
   ]
  },
  {
   "cell_type": "code",
   "execution_count": 42,
   "metadata": {},
   "outputs": [
    {
     "name": "stdout",
     "output_type": "stream",
     "text": [
      "Sigma:  GOOG    0.338159\n",
      "dtype: float64\n",
      "v_0 GOOG    0.114351\n",
      "dtype: float64\n"
     ]
    }
   ],
   "source": [
    "### Calculate Log Returns and Historical Volatility (sigma)\n",
    "def get_log_returns(data):\n",
    "    return np.log(data / data.shift(1))\n",
    "\n",
    "def volatility(log_returns):\n",
    "    std_dev = log_returns.std()\n",
    "    sigma = np.sqrt(252) * std_dev  # Annualized volatility (252 trading days per year)\n",
    "    return sigma\n",
    "\n",
    "# Assuming stock_data is already defined\n",
    "log_returns = get_log_returns(stock_data)\n",
    "sigma = volatility(log_returns)\n",
    "v_0 = sigma ** 2\n",
    "print('Sigma: ', sigma)\n",
    "print('v_0', v_0)"
   ]
  },
  {
   "cell_type": "code",
   "execution_count": 43,
   "metadata": {},
   "outputs": [],
   "source": [
    "### Compute the Characteristic Function\n",
    "# See whitepaper for characteristic equation\n",
    "def char_func(u, S_0, r, T, k, theta, sigma, rho, v_0):\n",
    "    i = 1j\n",
    "    b = k - rho * sigma * i * u\n",
    "    d = np.sqrt(b ** 2 + (sigma ** 2) * (i * u + u ** 2))\n",
    "    g = (b - d) / (b + d)\n",
    "    e_dt = np.exp(-d * T)\n",
    "    C = r * i * u * T + (k * theta / (sigma ** 2)) * ((b - d) * T - 2 * np.log((1 - g * e_dt) / (1 - g)))\n",
    "    D = ((b - d) / (sigma ** 2)) * ((1 - e_dt) / (1 - g * e_dt))\n",
    "    \n",
    "    char_eqn = np.exp(C + D * v_0 + i * u * np.log(S_0))\n",
    "\n",
    "    return char_eqn\n"
   ]
  },
  {
   "cell_type": "code",
   "execution_count": 44,
   "metadata": {},
   "outputs": [],
   "source": [
    "### Compute Probability P_1\n",
    "# See whitepaper for integral equation to estimate probability P_1\n",
    "def p_1(S0, K, T, r, kappa, theta, sigma, rho, v0):\n",
    "    def integrand(u):\n",
    "        numerator = np.exp(-1j * u * np.log(K)) * char_func(u - 1j, S0, r, T, kappa, theta, sigma, rho, v0)\n",
    "        denominator = 1j * u * char_func(-1j, S0, r, T, kappa, theta, sigma, rho, v0)\n",
    "        return np.real(numerator / denominator).squeeze()\n",
    "\n",
    "    result, error = quad(integrand, 0, np.inf)\n",
    "    return 0.5 + (1 / np.pi) * result\n",
    "\n",
    "### Compute Probability P_2\n",
    "# See whitepaper for integral equation to estimate probability P_2\n",
    "def p_2(S0, K, T, r, kappa, theta, sigma, rho, v0):\n",
    "    def integrand(u):\n",
    "        numerator = np.exp(-1j * u * np.log(K)) * char_func(u, S0, r, T, kappa, theta, sigma, rho, v0)\n",
    "        denominator = 1j * u\n",
    "        return np.real(numerator / denominator).squeeze()\n",
    "\n",
    "    result, error = quad(integrand, 0, np.inf)\n",
    "    return 0.5 + (1 / np.pi) * result\n"
   ]
  },
  {
   "cell_type": "code",
   "execution_count": 45,
   "metadata": {},
   "outputs": [],
   "source": [
    "### Compute the Heston Approximation for a Call and Put Option\n",
    "def heston_approx(S_0, K, T, r, k, theta, sigma, rho, v_0, option_type):\n",
    "    P_1 = p_1(S_0, K, T, r, k, theta, sigma, rho, v_0)\n",
    "    P_2 = p_2(S_0, K, T, r, k, theta, sigma, rho, v_0)\n",
    "    \n",
    "    if option_type == 'call':\n",
    "        call_price = S_0 * P_1 - K * np.exp(-r * T) * P_2\n",
    "        return call_price\n",
    "    elif option_type == 'put':\n",
    "        put_price = S_0 * (P_1 - 1) + K * np.exp(-r * T) * (1 - P_2)\n",
    "        return put_price\n",
    "    else:\n",
    "        raise ValueError(\"Invalid option type. Choose 'Call' or 'Put'.\")\n"
   ]
  },
  {
   "cell_type": "code",
   "execution_count": 46,
   "metadata": {},
   "outputs": [
    {
     "name": "stdout",
     "output_type": "stream",
     "text": [
      "Theta was calculated as:  GOOG    0.013076\n",
      "dtype: float64\n",
      "put Option Price Estimate: 9.0187\n"
     ]
    }
   ],
   "source": [
    "### Initialize Parameters\n",
    "# Kappa = Mean-reversion speed in the Heston model\n",
    "k = 2 \n",
    "# Long-term average variance (squared volatility) in the Heston model\n",
    "theta = v_0 ** 2  \n",
    "print('Theta was calculated as: ', theta)\n",
    "# rho - correlation parameter\n",
    "rho = -0.5\n",
    "# Time to Expiration (years)\n",
    "T = 1\n",
    "# Interest rate\n",
    "r = 0.05\n",
    "# Option type (Call or Put)\n",
    "option_type = 'put'\n",
    "\n",
    "### Function Call\n",
    "option_price = heston_approx(S_0, K, T, r, k, theta, sigma, rho, v_0, option_type)\n",
    "print(option_type + \" Option Price Estimate:\", round(option_price, 4))\n"
   ]
  },
  {
   "cell_type": "code",
   "execution_count": 47,
   "metadata": {},
   "outputs": [
    {
     "name": "stdout",
     "output_type": "stream",
     "text": [
      "Call Option Price: 7.301\n",
      "Put Option Price: 3.5164\n"
     ]
    }
   ],
   "source": [
    "### Test Case\n",
    "S_0 = 100\n",
    "K_call = 105\n",
    "K_put = 95\n",
    "T = 1\n",
    "r = 0.05\n",
    "k = 1.5\n",
    "theta = 0.03\n",
    "sigma = 0.2\n",
    "rho = -0.7\n",
    "v_0 = 0.04\n",
    "\n",
    "call_price = heston_approx(S_0, K_call, T, r, k, theta, sigma, rho, v_0, 'call')\n",
    "put_price = heston_approx(S_0, K_put, T, r, k, theta, sigma, rho, v_0, 'put')\n",
    "print('Call Option Price:', round(call_price, 4))\n",
    "print('Put Option Price:', round(put_price, 4))\n"
   ]
  }
 ],
 "metadata": {
  "kernelspec": {
   "display_name": "base",
   "language": "python",
   "name": "python3"
  },
  "language_info": {
   "codemirror_mode": {
    "name": "ipython",
    "version": 3
   },
   "file_extension": ".py",
   "mimetype": "text/x-python",
   "name": "python",
   "nbconvert_exporter": "python",
   "pygments_lexer": "ipython3",
   "version": "3.8.18"
  }
 },
 "nbformat": 4,
 "nbformat_minor": 2
}
