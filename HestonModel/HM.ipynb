{
 "cells": [
  {
   "cell_type": "code",
   "execution_count": 32,
   "metadata": {},
   "outputs": [],
   "source": [
    "### Library Import Initialization\n",
    "import numpy as np\n",
    "import pandas as pd\n",
    "import yfinance as yf\n",
    "import matplotlib.pyplot as plt\n",
    "import seaborn as sns\n",
    "from scipy.stats import norm\n",
    "import warnings\n",
    "warnings.filterwarnings(\"ignore\")\n"
   ]
  },
  {
   "cell_type": "code",
   "execution_count": 33,
   "metadata": {},
   "outputs": [
    {
     "name": "stderr",
     "output_type": "stream",
     "text": [
      "[*********************100%%**********************]  1 of 1 completed\n"
     ]
    },
    {
     "data": {
      "text/plain": [
       "144.41650390625"
      ]
     },
     "execution_count": 33,
     "metadata": {},
     "output_type": "execute_result"
    }
   ],
   "source": [
    "### Load in Stock Data\n",
    "def import_stock_data(tickers, start_date):\n",
    "    data = pd.DataFrame()\n",
    "    if len([tickers]) == 1:\n",
    "        data[tickers] = yf.download(tickers, start_date)['Adj Close']\n",
    "        data = pd.DataFrame(data)\n",
    "    else:\n",
    "        for t in tickers:\n",
    "            data[t] = yf.download(tickers, start_date)['Adj Close']\n",
    "    return data\n",
    "\n",
    "tickers = 'GOOG'\n",
    "start_data = '2022-01-01'\n",
    "stock_data = import_stock_data(tickers, start_data)\n",
    "# Get most recent stock price\n",
    "S_0 = stock_data.iloc[1, -1]\n",
    "S_0"
   ]
  },
  {
   "cell_type": "code",
   "execution_count": 34,
   "metadata": {},
   "outputs": [
    {
     "data": {
      "text/html": [
       "<div>\n",
       "<style scoped>\n",
       "    .dataframe tbody tr th:only-of-type {\n",
       "        vertical-align: middle;\n",
       "    }\n",
       "\n",
       "    .dataframe tbody tr th {\n",
       "        vertical-align: top;\n",
       "    }\n",
       "\n",
       "    .dataframe thead th {\n",
       "        text-align: right;\n",
       "    }\n",
       "</style>\n",
       "<table border=\"1\" class=\"dataframe\">\n",
       "  <thead>\n",
       "    <tr style=\"text-align: right;\">\n",
       "      <th></th>\n",
       "      <th>GOOG</th>\n",
       "    </tr>\n",
       "    <tr>\n",
       "      <th>Date</th>\n",
       "      <th></th>\n",
       "    </tr>\n",
       "  </thead>\n",
       "  <tbody>\n",
       "    <tr>\n",
       "      <th>2024-05-06</th>\n",
       "      <td>0.004958</td>\n",
       "    </tr>\n",
       "    <tr>\n",
       "      <th>2024-05-07</th>\n",
       "      <td>0.018378</td>\n",
       "    </tr>\n",
       "    <tr>\n",
       "      <th>2024-05-08</th>\n",
       "      <td>-0.010577</td>\n",
       "    </tr>\n",
       "    <tr>\n",
       "      <th>2024-05-09</th>\n",
       "      <td>0.002451</td>\n",
       "    </tr>\n",
       "    <tr>\n",
       "      <th>2024-05-10</th>\n",
       "      <td>-0.007547</td>\n",
       "    </tr>\n",
       "  </tbody>\n",
       "</table>\n",
       "</div>"
      ],
      "text/plain": [
       "                GOOG\n",
       "Date                \n",
       "2024-05-06  0.004958\n",
       "2024-05-07  0.018378\n",
       "2024-05-08 -0.010577\n",
       "2024-05-09  0.002451\n",
       "2024-05-10 -0.007547"
      ]
     },
     "execution_count": 34,
     "metadata": {},
     "output_type": "execute_result"
    }
   ],
   "source": [
    "### Compute Log Returns\n",
    "def get_log_returns(data):\n",
    "    return np.log(stock_data / stock_data.shift(1))\n",
    "\n",
    "log_returns = get_log_returns(stock_data)\n",
    "log_returns.tail()"
   ]
  },
  {
   "cell_type": "code",
   "execution_count": 35,
   "metadata": {},
   "outputs": [
    {
     "data": {
      "text/plain": [
       "GOOG    0.34456\n",
       "dtype: float64"
      ]
     },
     "execution_count": 35,
     "metadata": {},
     "output_type": "execute_result"
    }
   ],
   "source": [
    "### Calculate Historical Volatility\n",
    "def volatility(log_returns):\n",
    "    # Calculate standard deviation of log_returns\n",
    "    std_dev = log_returns.std()\n",
    "    # Calculate historical volatility (v_0) = sqrt(252) * std dev\n",
    "    v_0 = np.sqrt(252) * std_dev # 252 trading days per year\n",
    "\n",
    "    return v_0\n",
    "\n",
    "v_0 = volatility(log_returns)\n",
    "v_0"
   ]
  },
  {
   "cell_type": "code",
   "execution_count": 36,
   "metadata": {},
   "outputs": [],
   "source": [
    "### Initialize Parameters\n",
    "# Mean-reversion speed in the Heston model\n",
    "k = 0.1  \n",
    "# Volatility of volatility in the Heston model\n",
    "sigma = 0.2  \n",
    "# Time step, typically representing trading days in a year\n",
    "dt = 252  \n",
    "# Long-term average variance (squared volatility) in the Heston model\n",
    "theta = v_0 ** 2  \n",
    "# Drift rate, computed as mean - 0.5 * variance\n",
    "mean = log_returns.mean()  \n",
    "var = log_returns.var()  \n",
    "drift = mean - (0.5 * var)  \n"
   ]
  },
  {
   "cell_type": "code",
   "execution_count": 37,
   "metadata": {},
   "outputs": [],
   "source": [
    "### Heston Model Function\n",
    "def heston_model(S_0, v_0, drift, k, theta, sigma, dt, days):\n",
    "    # Generate random numbers z_1​ and z_2​ from a standard normal distribution for each time step\n",
    "    z_1 = np.random.randn(days)\n",
    "    z_2 = np.random.randn(days)\n",
    "    \n",
    "    # Create empty lists to store asset prices\n",
    "    S = np.zeros(days)\n",
    "    v = np.zeros(days)\n",
    "    # Set first value of array to initial S_0 and v_0 \n",
    "    S[0] = S_0\n",
    "    v[0] = v_0\n",
    "\n",
    "    # Loop through each time step starting from t=1\n",
    "    for t in range(1, days):\n",
    "        # Update asset price S[t] using the Heston model equation\n",
    "        S[t] = S[t-1] * np.exp((drift - 0.5 * v[t-1]) * dt + np.sqrt(v[t-1] * dt) * z_1[t])\n",
    "        # Update volatility v[t] using the Heston model equation\n",
    "        v[t] = v[t-1] + k * (theta - v[t-1]) * dt + sigma * np.sqrt(v[t-1] * dt) * z_2[t]\n",
    "\n",
    "    return S\n",
    "\n"
   ]
  },
  {
   "cell_type": "code",
   "execution_count": 39,
   "metadata": {},
   "outputs": [
    {
     "data": {
      "text/plain": [
       "<function matplotlib.pyplot.show(close=None, block=None)>"
      ]
     },
     "execution_count": 39,
     "metadata": {},
     "output_type": "execute_result"
    },
    {
     "data": {
      "image/png": "[encoded data removed]",
      "text/plain": [
       "<Figure size 640x480 with 1 Axes>"
      ]
     },
     "metadata": {},
     "output_type": "display_data"
    }
   ],
   "source": [
    "### Generate Price Paths\n",
    "# Variable init\n",
    "trials = 10\n",
    "days = 252\n",
    "# Initialize price_paths with correct dimensions\n",
    "price_paths = np.zeros((trials, days))  \n",
    "# set initial value of price paths to the last stock value\n",
    "price_paths[0] = S_0\n",
    "\n",
    "# Loop to calculate each individual path and store it in the price paths array\n",
    "for trial in range(trials):\n",
    "    price_paths[trial] = heston_model(S_0, v_0, drift, k, theta, sigma, dt, days)\n",
    "\n",
    "# Plot each of the 1000 price paths over the 252 day span\n",
    "plt.plot(price_paths)\n",
    "plt.show\n"
   ]
  }
 ],
 "metadata": {
  "kernelspec": {
   "display_name": "base",
   "language": "python",
   "name": "python3"
  },
  "language_info": {
   "codemirror_mode": {
    "name": "ipython",
    "version": 3
   },
   "file_extension": ".py",
   "mimetype": "text/x-python",
   "name": "python",
   "nbconvert_exporter": "python",
   "pygments_lexer": "ipython3",
   "version": "3.8.18"
  }
 },
 "nbformat": 4,
 "nbformat_minor": 2
}
